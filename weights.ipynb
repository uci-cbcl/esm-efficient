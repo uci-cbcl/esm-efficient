{
 "cells": [
  {
   "cell_type": "code",
   "execution_count": 1,
   "metadata": {},
   "outputs": [],
   "source": [
    "import safetensors.torch as safetensors\n",
    "from safetensors.torch import save_file"
   ]
  },
  {
   "cell_type": "code",
   "execution_count": 2,
   "metadata": {},
   "outputs": [
    {
     "name": "stdout",
     "output_type": "stream",
     "text": [
      "{'attention_heads': '20',\n",
      " 'embed_dim': '1280',\n",
      " 'format': 'pt',\n",
      " 'lm_head.weight': 'embed_tokens.weight',\n",
      " 'name': 'esm1v',\n",
      " 'num_layers': '33'}\n"
     ]
    }
   ],
   "source": [
    "from pprint import pprint\n",
    "\n",
    "with safetensors.safe_open('data/results/models/1v/1v_1.safetensors', framework='pt') as sf:\n",
    "    pprint(sf.metadata())"
   ]
  },
  {
   "cell_type": "code",
   "execution_count": 4,
   "metadata": {},
   "outputs": [],
   "source": [
    "from pprint import pprint\n",
    "\n",
    "# pprint([i for i in state_dict.keys() if i.startswith('lm_head')])"
   ]
  },
  {
   "cell_type": "code",
   "execution_count": 5,
   "metadata": {},
   "outputs": [],
   "source": [
    "# state_dict = safetensors.load_file('data/results/models/1b/1b.safetensors')"
   ]
  },
  {
   "cell_type": "code",
   "execution_count": 7,
   "metadata": {},
   "outputs": [
    {
     "ename": "FileNotFoundError",
     "evalue": "No such file or directory: \"data/results/models/1v/esm1v_1.safetensors\"",
     "output_type": "error",
     "traceback": [
      "\u001b[0;31m---------------------------------------------------------------------------\u001b[0m",
      "\u001b[0;31mFileNotFoundError\u001b[0m                         Traceback (most recent call last)",
      "Cell \u001b[0;32mIn[7], line 2\u001b[0m\n\u001b[1;32m      1\u001b[0m \u001b[38;5;28;01mfor\u001b[39;00m ens \u001b[38;5;129;01min\u001b[39;00m [\u001b[38;5;241m1\u001b[39m]:\n\u001b[0;32m----> 2\u001b[0m     state_dict \u001b[38;5;241m=\u001b[39m \u001b[43msafetensors\u001b[49m\u001b[38;5;241;43m.\u001b[39;49m\u001b[43mload_file\u001b[49m\u001b[43m(\u001b[49m\u001b[38;5;124;43mf\u001b[39;49m\u001b[38;5;124;43m'\u001b[39;49m\u001b[38;5;124;43mdata/results/models/1v/esm1v_\u001b[39;49m\u001b[38;5;132;43;01m{\u001b[39;49;00m\u001b[43mens\u001b[49m\u001b[38;5;132;43;01m}\u001b[39;49;00m\u001b[38;5;124;43m.safetensors\u001b[39;49m\u001b[38;5;124;43m'\u001b[39;49m\u001b[43m)\u001b[49m\n\u001b[1;32m      4\u001b[0m     state_dict_new \u001b[38;5;241m=\u001b[39m {\n\u001b[1;32m      5\u001b[0m         \u001b[38;5;124m'\u001b[39m\u001b[38;5;124membed_tokens.weight\u001b[39m\u001b[38;5;124m'\u001b[39m: state_dict[\u001b[38;5;124m'\u001b[39m\u001b[38;5;124membed_tokens.weight\u001b[39m\u001b[38;5;124m'\u001b[39m],\n\u001b[1;32m      6\u001b[0m         \u001b[38;5;124m'\u001b[39m\u001b[38;5;124mlm_head.layer_norm.bias\u001b[39m\u001b[38;5;124m'\u001b[39m: state_dict[\u001b[38;5;124m'\u001b[39m\u001b[38;5;124mlm_head.layer_norm.bias\u001b[39m\u001b[38;5;124m'\u001b[39m],\n\u001b[0;32m   (...)\u001b[0m\n\u001b[1;32m     17\u001b[0m         \u001b[38;5;124m'\u001b[39m\u001b[38;5;124membed_positions.weight\u001b[39m\u001b[38;5;124m'\u001b[39m: state_dict[\u001b[38;5;124m'\u001b[39m\u001b[38;5;124membed_positions.weight\u001b[39m\u001b[38;5;124m'\u001b[39m],\n\u001b[1;32m     18\u001b[0m     }\n\u001b[1;32m     20\u001b[0m     \u001b[38;5;28;01mfor\u001b[39;00m i \u001b[38;5;129;01min\u001b[39;00m \u001b[38;5;28mrange\u001b[39m(\u001b[38;5;241m33\u001b[39m):\n",
      "File \u001b[0;32m~/anaconda3/envs/esme/lib/python3.11/site-packages/safetensors/torch.py:311\u001b[0m, in \u001b[0;36mload_file\u001b[0;34m(filename, device)\u001b[0m\n\u001b[1;32m    288\u001b[0m \u001b[38;5;250m\u001b[39m\u001b[38;5;124;03m\"\"\"\u001b[39;00m\n\u001b[1;32m    289\u001b[0m \u001b[38;5;124;03mLoads a safetensors file into torch format.\u001b[39;00m\n\u001b[1;32m    290\u001b[0m \n\u001b[0;32m   (...)\u001b[0m\n\u001b[1;32m    308\u001b[0m \u001b[38;5;124;03m```\u001b[39;00m\n\u001b[1;32m    309\u001b[0m \u001b[38;5;124;03m\"\"\"\u001b[39;00m\n\u001b[1;32m    310\u001b[0m result \u001b[38;5;241m=\u001b[39m {}\n\u001b[0;32m--> 311\u001b[0m \u001b[38;5;28;01mwith\u001b[39;00m \u001b[43msafe_open\u001b[49m\u001b[43m(\u001b[49m\u001b[43mfilename\u001b[49m\u001b[43m,\u001b[49m\u001b[43m \u001b[49m\u001b[43mframework\u001b[49m\u001b[38;5;241;43m=\u001b[39;49m\u001b[38;5;124;43m\"\u001b[39;49m\u001b[38;5;124;43mpt\u001b[39;49m\u001b[38;5;124;43m\"\u001b[39;49m\u001b[43m,\u001b[49m\u001b[43m \u001b[49m\u001b[43mdevice\u001b[49m\u001b[38;5;241;43m=\u001b[39;49m\u001b[43mdevice\u001b[49m\u001b[43m)\u001b[49m \u001b[38;5;28;01mas\u001b[39;00m f:\n\u001b[1;32m    312\u001b[0m     \u001b[38;5;28;01mfor\u001b[39;00m k \u001b[38;5;129;01min\u001b[39;00m f\u001b[38;5;241m.\u001b[39mkeys():\n\u001b[1;32m    313\u001b[0m         result[k] \u001b[38;5;241m=\u001b[39m f\u001b[38;5;241m.\u001b[39mget_tensor(k)\n",
      "\u001b[0;31mFileNotFoundError\u001b[0m: No such file or directory: \"data/results/models/1v/esm1v_1.safetensors\""
     ]
    }
   ],
   "source": [
    "for ens in [1]:\n",
    "    state_dict = safetensors.load_file(f'data/results/models/1v/esm1v_{ens}.safetensors')\n",
    "\n",
    "    state_dict_new = {\n",
    "        'embed_tokens.weight': state_dict['embed_tokens.weight'],\n",
    "        'lm_head.layer_norm.bias': state_dict['lm_head.layer_norm.bias'],\n",
    "        'lm_head.layer_norm.weight': state_dict['lm_head.layer_norm.weight'],\n",
    "        'emb_layer_norm_after.weight': state_dict['emb_layer_norm_after.weight'],\n",
    "        'emb_layer_norm_after.bias': state_dict['emb_layer_norm_after.bias'],\n",
    "        'lm_head.dense.weight': state_dict['lm_head.dense.weight'],\n",
    "        'lm_head.dense.bias': state_dict['lm_head.dense.bias'],\n",
    "        'lm_head.final.weight': state_dict['embed_tokens.weight'].clone(),\n",
    "        'lm_head.final.bias': state_dict['lm_head.bias'],\n",
    "        # \n",
    "        # 'emb_layer_norm_before.weight': state_dict['emb_layer_norm_before.weight'],\n",
    "        # 'emb_layer_norm_before.bias': state_dict['emb_layer_norm_before.bias'],\n",
    "        'embed_positions.weight': state_dict['embed_positions.weight'],\n",
    "    }\n",
    "\n",
    "    for i in range(33):\n",
    "        state_dict_new[f'layers.{i}.self_attn.norm.weight'] = state_dict[\n",
    "            f'layers.{i}.self_attn_layer_norm.weight']\n",
    "        state_dict_new[f'layers.{i}.self_attn.norm.bias'] = state_dict[\n",
    "            f'layers.{i}.self_attn_layer_norm.bias']\n",
    "\n",
    "        for j in ['q', 'k', 'v', 'out']:\n",
    "            state_dict_new[f'layers.{i}.self_attn.{j}.weight'] = state_dict[\n",
    "                f'layers.{i}.self_attn.{j}.weight']\n",
    "            state_dict_new[f'layers.{i}.self_attn.{j}.bias'] = state_dict[\n",
    "                f'layers.{i}.self_attn.{j}.bias']\n",
    "\n",
    "        state_dict_new[f'layers.{i}.final.0.weight'] = state_dict[\n",
    "            f'layers.{i}.final_layer_norm.weight']\n",
    "        state_dict_new[f'layers.{i}.final.0.bias'] = state_dict[\n",
    "            f'layers.{i}.final_layer_norm.bias']\n",
    "        state_dict_new[f'layers.{i}.final.1.weight'] = state_dict[\n",
    "            f'layers.{i}.fc1.weight']\n",
    "        state_dict_new[f'layers.{i}.final.1.bias'] = state_dict[\n",
    "            f'layers.{i}.fc1.bias']\n",
    "        state_dict_new[f'layers.{i}.final.3.weight'] = state_dict[\n",
    "            f'layers.{i}.fc2.weight']\n",
    "        state_dict_new[f'layers.{i}.final.3.bias'] = state_dict[\n",
    "            f'layers.{i}.fc2.bias']\n",
    "\n",
    "    save_file(\n",
    "        state_dict_new, \n",
    "        f'data/results/models/1v/1v_{ens}.safetensors',\n",
    "        metadata={\n",
    "            'embed_dim': '1280', \n",
    "            'format': 'pt', \n",
    "            'name': 'esm1v', \n",
    "            'num_layers': '33', \n",
    "            'attention_heads': '20'\n",
    "        }\n",
    "    )"
   ]
  },
  {
   "cell_type": "code",
   "execution_count": 54,
   "metadata": {},
   "outputs": [],
   "source": [
    "from esme import ESM1b, ESM1v\n",
    "\n",
    "model = ESM1v()\n",
    "missing, unexpected = model.load_state_dict(state_dict_new, strict=False)"
   ]
  },
  {
   "cell_type": "code",
   "execution_count": 55,
   "metadata": {},
   "outputs": [
    {
     "name": "stdout",
     "output_type": "stream",
     "text": [
      "[]\n"
     ]
    }
   ],
   "source": [
    "print(missing)"
   ]
  },
  {
   "cell_type": "code",
   "execution_count": 56,
   "metadata": {},
   "outputs": [
    {
     "name": "stdout",
     "output_type": "stream",
     "text": [
      "[]\n"
     ]
    }
   ],
   "source": [
    "print(unexpected)"
   ]
  },
  {
   "cell_type": "code",
   "execution_count": null,
   "metadata": {},
   "outputs": [],
   "source": [
    "from safetensors.torch import save_file\n",
    "\n",
    "save_file(\n",
    "    state_dict_new, \n",
    "    'data/results/models/1v/_esm1v_1.safetensors',\n",
    "    metadata={\n",
    "        'embed_dim': '1280', \n",
    "        'format': 'pt', \n",
    "        'name': 'esm1v', \n",
    "        'num_layers': '33', \n",
    "        'attention_heads': '20'\n",
    "    }\n",
    ")"
   ]
  },
  {
   "cell_type": "code",
   "execution_count": 1,
   "metadata": {},
   "outputs": [],
   "source": [
    "import pandas as pd"
   ]
  },
  {
   "cell_type": "code",
   "execution_count": 10,
   "metadata": {},
   "outputs": [
    {
     "name": "stderr",
     "output_type": "stream",
     "text": [
      "568018it [02:12, 4296.14it/s]  \n"
     ]
    }
   ],
   "source": [
    "from tqdm import tqdm\n",
    "targets = list()\n",
    "\n",
    "with open('data/resources/flip/aav/low_vs_high.fasta', 'r') as f:\n",
    "    for i in tqdm(f):\n",
    "        if i.startswith('>'):\n",
    "            targets.append(float(i.split(' ')[1].split('=')[1]))"
   ]
  },
  {
   "cell_type": "code",
   "execution_count": 11,
   "metadata": {},
   "outputs": [
    {
     "data": {
      "text/plain": [
       "count    284009.000000\n",
       "mean         -2.269737\n",
       "std           3.369017\n",
       "min         -11.176109\n",
       "25%          -5.492205\n",
       "50%          -1.398595\n",
       "75%           0.824561\n",
       "max           9.536457\n",
       "dtype: float64"
      ]
     },
     "execution_count": 11,
     "metadata": {},
     "output_type": "execute_result"
    }
   ],
   "source": [
    "pd.Series(targets).describe()"
   ]
  },
  {
   "cell_type": "code",
   "execution_count": 12,
   "metadata": {},
   "outputs": [
    {
     "data": {
      "text/plain": [
       "<Axes: >"
      ]
     },
     "execution_count": 12,
     "metadata": {},
     "output_type": "execute_result"
    },
    {
     "data": {
      "image/png": "[encoded data removed]",
      "text/plain": [
       "<Figure size 640x480 with 1 Axes>"
      ]
     },
     "metadata": {},
     "output_type": "display_data"
    }
   ],
   "source": [
    "pd.Series(targets).hist()"
   ]
  },
  {
   "cell_type": "code",
   "execution_count": null,
   "metadata": {},
   "outputs": [],
   "source": []
  }
 ],
 "metadata": {
  "kernelspec": {
   "display_name": "esme",
   "language": "python",
   "name": "python3"
  },
  "language_info": {
   "codemirror_mode": {
    "name": "ipython",
    "version": 3
   },
   "file_extension": ".py",
   "mimetype": "text/x-python",
   "name": "python",
   "nbconvert_exporter": "python",
   "pygments_lexer": "ipython3",
   "version": "3.11.9"
  }
 },
 "nbformat": 4,
 "nbformat_minor": 2
}
