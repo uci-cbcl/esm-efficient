{
 "cells": [
  {
   "cell_type": "code",
   "execution_count": null,
   "id": "9bfd2747",
   "metadata": {},
   "outputs": [],
   "source": [
    "import pandas as pd\n",
    "import torch\n",
    "from torch import nn\n",
    "import safetensors.torch as sf \n",
    "from esme import ESM\n",
    "from esme.pooling import BinaryLearnedAggregation\n",
    "from esme.trainer import RegressionTrainer\n",
    "from workflow.gb1_aav.gb1 import Gb1DataModule\n",
    "\n",
    "device = snakemake.params['device']\n",
    "torch.set_float32_matmul_precision('medium')"
   ]
  },
  {
   "cell_type": "code",
   "execution_count": null,
   "id": "c215d25e",
   "metadata": {},
   "outputs": [],
   "source": [
    "truncate_len=None\n",
    "if snakemake.wildcards['model'].startswith('1ve') or snakemake.wildcards['model'].startswith('1be'):\n",
    "    truncate_len = 4096\n",
    "\n",
    "datamodule = Gb1DataModule(\n",
    "    snakemake.input['fasta'],\n",
    "    token_per_batch=10_000,\n",
    "    num_workers=snakemake.threads,\n",
    "    truncate_len=truncate_len,\n",
    ")"
   ]
  },
  {
   "cell_type": "code",
   "execution_count": null,
   "id": "78f228f1",
   "metadata": {},
   "outputs": [],
   "source": [
    "_model = ESM.from_pretrained(snakemake.input['model'], device=device)"
   ]
  },
  {
   "cell_type": "code",
   "execution_count": null,
   "id": "c83ae41e",
   "metadata": {},
   "outputs": [],
   "source": [
    "wld_lora = snakemake.wildcards['lora']\n",
    "if wld_lora != 'none':\n",
    "    _model.load_lora(snakemake.input['lora_weights']) "
   ]
  },
  {
   "cell_type": "code",
   "execution_count": null,
   "id": "4480888a",
   "metadata": {},
   "outputs": [],
   "source": [
    "head = BinaryLearnedAggregation(_model.attention_heads, _model.embed_dim).to(device)\n",
    "head.load_state_dict(sf.load_file(snakemake.input['head_weights'], device=device))"
   ]
  },
  {
   "cell_type": "code",
   "execution_count": null,
   "id": "e7d319af",
   "metadata": {},
   "outputs": [],
   "source": [
    "model = RegressionTrainer(_model, head, reduction=None).to(device)\n",
    "model.eval()"
   ]
  },
  {
   "cell_type": "code",
   "execution_count": null,
   "id": "9f38adb8",
   "metadata": {},
   "outputs": [],
   "source": [
    "preds = list()\n",
    "targets = list()\n",
    "\n",
    "with torch.no_grad():\n",
    "    for batch in datamodule.test_dataloader():\n",
    "        pad_args = (batch['cu_lens'].to(device), batch['max_len'])\n",
    "        token = batch['token'].to(device)\n",
    "        \n",
    "        preds.append(model(token, pad_args).cpu())\n",
    "        targets.append(batch['label'])\n",
    "\n",
    "df = pd.DataFrame({\n",
    "    'pred': torch.cat(preds).float().numpy(),\n",
    "    'target': torch.cat(targets).float().numpy(),\n",
    "})\n",
    "df.to_csv(snakemake.output['pred'], index=False)"
   ]
  },
  {
   "cell_type": "code",
   "execution_count": null,
   "id": "3650628a",
   "metadata": {},
   "outputs": [],
   "source": [
    "import matplotlib.pyplot as plt\n",
    "import seaborn as sns\n",
    "from scipy.stats import spearmanr\n",
    "\n",
    "plt.figure(figsize=(4, 4), dpi=300)\n",
    "sns.scatterplot(data=df, x='pred', y='target', alpha=0.5)\n",
    "plt.xlabel('Predicted')\n",
    "plt.ylabel('GB1 Measurement')\n",
    "plt.xlim(-.05, 1.05)\n",
    "plt.ylim(-.05, 1.05)\n",
    "sns.despine()\n",
    "\n",
    "spearman = spearmanr(df['pred'], df['target'])\n",
    "plt.text(.05, .95, r'$\\rho$' f'{spearman.correlation:.2f}')\n",
    "\n",
    "plt.savefig(snakemake.output['fig'], bbox_inches='tight')"
   ]
  }
 ],
 "metadata": {
  "kernelspec": {
   "display_name": "esme",
   "language": "python",
   "name": "python3"
  },
  "language_info": {
   "codemirror_mode": {
    "name": "ipython",
    "version": 3
   },
   "file_extension": ".py",
   "mimetype": "text/x-python",
   "name": "python",
   "nbconvert_exporter": "python",
   "pygments_lexer": "ipython3",
   "version": "3.11.9"
  }
 },
 "nbformat": 4,
 "nbformat_minor": 5
}
