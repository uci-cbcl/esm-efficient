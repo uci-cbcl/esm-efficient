{
 "cells": [
  {
   "cell_type": "code",
   "execution_count": null,
   "id": "e2ced8bf",
   "metadata": {},
   "outputs": [],
   "source": [
    "import pandas as pd\n",
    "import seaborn as sns\n",
    "import matplotlib.pyplot as plt"
   ]
  },
  {
   "cell_type": "code",
   "execution_count": null,
   "id": "f770b29a-68f5-44e8-82b1-b791440568a1",
   "metadata": {},
   "outputs": [],
   "source": [
    "df = list()\n",
    "df_quantize = list()\n",
    "\n",
    "for i in snakemake.input['memory']:\n",
    "    _df = pd.read_csv(i)\n",
    "    i = i.split('_')\n",
    "    _df['model'] = i[2].replace('model=', '')\n",
    "    _df['Quantization'] =  i[3].replace('q=', '')\n",
    "    df.append(_df)\n",
    "    \n",
    "df = pd.concat(df)"
   ]
  },
  {
   "cell_type": "code",
   "execution_count": null,
   "id": "d5230997-9a89-4138-9a8f-e3fcca0c9401",
   "metadata": {},
   "outputs": [],
   "source": [
    "df['Efficient'] = df['model'].str.endswith('e')\n",
    "df['Model Size'] = df['model'].str.replace('e', '')"
   ]
  },
  {
   "cell_type": "code",
   "execution_count": null,
   "id": "db927c55",
   "metadata": {},
   "outputs": [],
   "source": [
    "_df = df.replace('none', 'bf16') \\\n",
    "  .rename(columns={'length': 'Sequence Length', 'mem_gb': 'Memory (GB)'})\n",
    "\n",
    "_df[df['mem_gb'] != -1] \\\n",
    "  [['Model Size', 'Sequence Length', 'Quantization', 'Memory (GB)', 'Efficient']] \\\n",
    "  .to_csv(snakemake.output['table'], index=False)  "
   ]
  },
  {
   "cell_type": "code",
   "execution_count": null,
   "id": "856a15c3",
   "metadata": {},
   "outputs": [],
   "source": [
    "palette = sns.color_palette()\n",
    "\n",
    "palette = {\n",
    "    i: p\n",
    "    for i, p in zip(['8M', '35M', '150M', '650M', '3B', '15B'], palette)\n",
    "}"
   ]
  },
  {
   "cell_type": "code",
   "execution_count": null,
   "id": "6c4307b5-1809-44a9-85fe-728b5c015839",
   "metadata": {},
   "outputs": [],
   "source": [
    "plt.figure(figsize=(6, 2), dpi=300)\n",
    "ax = sns.lineplot(data=df[(df['Quantization'] == 'none') & (df['mem_gb'] != -1)], \n",
    "                  x='length', y='mem_gb', hue='Model Size', \n",
    "                  style='Efficient', style_order=[True, False])\n",
    "sns.despine()\n",
    "plt.xlabel('Protein Length (Number of Residues)')\n",
    "plt.ylabel('Memory Usage (GB)')\n",
    "plt.xlim(0, 3510)\n",
    "\n",
    "oom_limit = 80\n",
    "plt.axhline(y=oom_limit, linestyle='--', color='black')\n",
    "plt.ylim(-1, oom_limit + 5)\n",
    "\n",
    "_df = df[df['mem_gb'] == -1] \n",
    "for i, row in enumerate(_df.itertuples()):\n",
    "    print(row)\n",
    "    ax.text(row.length, oom_limit + 1, 'OOM', \n",
    "            color=palette[row.model], ha='center', rotation=60)\n",
    "\n",
    "plt.legend([],[], frameon=False)\n",
    "plt.savefig(snakemake.output['fig'], bbox_inches='tight', dpi=300)"
   ]
  },
  {
   "cell_type": "code",
   "execution_count": null,
   "id": "9c93a93a-40af-4955-a144-8c53ecf30743",
   "metadata": {},
   "outputs": [],
   "source": [
    "fig, axs = plt.subplots(1, 2, figsize=(6, 2), dpi=300, width_ratios=[4, 2])\n",
    "plt.subplots_adjust(wspace=0.15)\n",
    "\n",
    "_df = df[df['Efficient']].replace({'none': 'bf16'})\n",
    "sns.boxplot(data=_df[~_df['Model Size'].isin({'3B', '15B'})], x='Model Size', y='mem_gb', hue='Quantization', ax=axs[0])\n",
    "sns.boxplot(data=_df[_df['Model Size'].isin({'3B', '15B'})], x='Model Size', y='mem_gb', hue='Quantization', ax=axs[1])\n",
    "axs[0].legend(fontsize=9, title='Quantization', title_fontsize=9)\n",
    "axs[1].legend().set_visible(False)\n",
    "axs[0].set_xlabel(None)\n",
    "axs[1].set_xlabel(None)\n",
    "axs[0].set_ylabel('Memory Usage (GB)')\n",
    "axs[1].set_ylabel(None)\n",
    "axs[0].text(1.5, -1.1, 'Model Parameter Size')\n",
    "sns.despine()\n",
    "oom_limit = 49.1\n",
    "plt.savefig(snakemake.output['fig_quantize'], bbox_inches='tight', dpi=300)"
   ]
  }
 ],
 "metadata": {
  "kernelspec": {
   "display_name": "esme",
   "language": "python",
   "name": "python3"
  },
  "language_info": {
   "codemirror_mode": {
    "name": "ipython",
    "version": 3
   },
   "file_extension": ".py",
   "mimetype": "text/x-python",
   "name": "python",
   "nbconvert_exporter": "python",
   "pygments_lexer": "ipython3",
   "version": "3.11.9"
  }
 },
 "nbformat": 4,
 "nbformat_minor": 5
}
