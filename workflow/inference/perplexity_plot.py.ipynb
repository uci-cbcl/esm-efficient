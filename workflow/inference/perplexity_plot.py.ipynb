{
 "cells": [
  {
   "cell_type": "code",
   "execution_count": null,
   "metadata": {},
   "outputs": [],
   "source": [
    "import numpy as np\n",
    "import pandas as pd\n",
    "import seaborn as sns\n",
    "import matplotlib.pyplot as plt"
   ]
  },
  {
   "cell_type": "code",
   "execution_count": null,
   "metadata": {},
   "outputs": [],
   "source": [
    "df = list()\n",
    "\n",
    "for i in snakemake.input:\n",
    "    model = i.split('model=')[1].split('_')[0]\n",
    "\n",
    "    _df = pd.read_csv(i, header=None, names=['protein_id', 'Pseudo-Perplexity'])\n",
    "    _df['efficient'] = 'Efficient' if 'e' in model else 'Original'\n",
    "    # _df['quantize'] = quantize\n",
    "    # _df['quantize'] = _df['quantize'].str.replace('none', 'bf16' if 'e' in model else '32bit')\n",
    "    _df['model'] = model.replace('e', '').replace('1v5', '1v').replace('1v4', '1v') \\\n",
    "        .replace('1v3', '1v').replace('1v2', '1v').replace('1v1', '1v') \\\n",
    "        .replace('c300m', '300M').replace('c600m', '600M')\n",
    "    # _df['legend'] = _df['quantize'] + ' (' + _df['efficient'].astype(str) + ')'\n",
    "    df.append(_df)\n",
    "\n",
    "df = pd.concat(df)"
   ]
  },
  {
   "cell_type": "code",
   "execution_count": null,
   "metadata": {},
   "outputs": [],
   "source": [
    "models = ['1b', '1v', '8M', '35M', '150M', '650M', '3B', \"15B\", '300M', '600M']\n",
    "\n",
    "fig, axs = plt.subplots(3, len(models), figsize=(2 * len(models), 8), dpi=300, sharey=True)\n",
    "\n",
    "for i, q in enumerate(['bf16', '8bit', '4bit']):\n",
    "    for ax, model in zip(axs[i], models):\n",
    "        ax.scatter(\n",
    "            df[(df['efficient'] == 'Original') & (df['model'] == model)].correlation.tolist(),\n",
    "            df[(df['efficient'] == 'Efficient') & (df['model'] == model) & (df['quantize'] == q)].correlation.tolist(),\n",
    "            alpha=.3\n",
    "        )\n",
    "        ax.set_xlim((0, 1))\n",
    "        ax.set_ylim((0, 1))\n",
    "        ax.plot([0,1],[0,1], color='black', linestyle='--')\n",
    "        sns.despine()\n",
    "\n",
    "        if model == '1b':\n",
    "            ax.set_ylabel(q)\n",
    "\n",
    "        if q == '4bit':\n",
    "            ax.set_xlabel(model)\n",
    "\n",
    "fig.text(0.5, 0.04, 'Model Size', ha='center')\n",
    "fig.text(0.08, 0.5, 'Quantization', va='center', rotation='vertical')\n",
    "plt.savefig(snakemake.output['fig_scatter'], bbox_inches='tight', dpi=300)"
   ]
  }
 ],
 "metadata": {
  "language_info": {
   "name": "python"
  }
 },
 "nbformat": 4,
 "nbformat_minor": 2
}
