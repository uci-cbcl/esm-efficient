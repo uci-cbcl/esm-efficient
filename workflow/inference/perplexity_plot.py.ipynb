{
 "cells": [
  {
   "cell_type": "code",
   "execution_count": null,
   "metadata": {},
   "outputs": [],
   "source": [
    "import numpy as np\n",
    "import pandas as pd\n",
    "import seaborn as sns\n",
    "import matplotlib.pyplot as plt"
   ]
  },
  {
   "cell_type": "code",
   "execution_count": null,
   "metadata": {},
   "outputs": [],
   "source": [
    "df = list()\n",
    "\n",
    "for i in snakemake.input:\n",
    "    model = i.split('model=')[1].split('_')[0]\n",
    "\n",
    "    _df = pd.read_csv(i)\n",
    "    _df = pd.read_csv(i, header=None, names=['protein_id', 'Pseudo-Perplexity'], sep='\\t')\n",
    "    _df['efficient'] = 'Efficient' if 'e' in model else 'Original'\n",
    "    _df['model'] = model.replace('.tsv', '').replace('e', '').replace('1v5', '1v').replace('1v4', '1v') \\\n",
    "        .replace('1v3', '1v').replace('1v2', '1v').replace('1v1', '1v')\n",
    "        # .replace('c300m', '300M').replace('c600m', '600M')\n",
    "    \n",
    "    df.append(_df)\n",
    "\n",
    "df = pd.concat(df)"
   ]
  },
  {
   "cell_type": "code",
   "execution_count": null,
   "metadata": {},
   "outputs": [],
   "source": [
    "from sklearn.metrics import mean_squared_error\n",
    "from more_itertools import flatten\n",
    "\n",
    "models = ['1b', '1v', '8M', '35M', '150M', '650M', '3B', \"15B\", 'c300m', 'c600m']\n",
    "\n",
    "fig, axs = plt.subplots(2, len(models) // 2, figsize=(len(models), 3), \n",
    "                        dpi=300, sharex=True, sharey=True)\n",
    "\n",
    "axs = flatten(axs)\n",
    "\n",
    "model_label = {\n",
    "    '1b': 'ESM-1b', \n",
    "    '1v': 'ESM-1v', \n",
    "    '8M': 'ESM2-8M', \n",
    "    '35M': 'ESM2-35M', \n",
    "    '150M': 'ESM2-150M',\n",
    "    '650M': 'ESM2-650M',\n",
    "    '3B': 'ESM2-3B', \n",
    "    '15B': 'ESM2-15B', \n",
    "    'c300m': 'ESMC-300M', \n",
    "    'c600m': 'ESMC-600M'\n",
    "}\n",
    "\n",
    "lim = (df['Pseudo-Perplexity'].min(), df['Pseudo-Perplexity'].max())\n",
    "\n",
    "stats = list()\n",
    "\n",
    "for ax, model in zip(axs, models):\n",
    "    ax.plot([0, 1], [0, 1], color='black', linestyle='--', transform=ax.transAxes, zorder=1)\n",
    "\n",
    "    _df_original = df[(df['efficient'] == 'Original') & (df['model'] == model)] \\\n",
    "        .set_index('protein_id')[['Pseudo-Perplexity']].rename(columns={'Pseudo-Perplexity': 'original'})\n",
    "\n",
    "    _df_efficient = df[(df['efficient'] == 'Efficient') & (df['model'] == model)] \\\n",
    "        .set_index('protein_id')[['Pseudo-Perplexity']].rename(columns={'Pseudo-Perplexity': 'efficient'})\n",
    "\n",
    "    _df = _df_original.join(_df_efficient, how='inner')\n",
    "\n",
    "    sns.scatterplot(data=_df, x='original', y='efficient', ax=ax, alpha=.25, zorder=2)\n",
    "    ax.text(0.05, 0.95, model_label[model], va='center', transform=ax.transAxes, fontsize=10)\n",
    "    ax.set_xlabel(None)\n",
    "    ax.set_ylabel(None)\n",
    "\n",
    "    ax.set_xlim(lim)\n",
    "    ax.set_ylim(lim)\n",
    "    sns.despine()\n",
    "\n",
    "    stats.append({\n",
    "        'model': model,\n",
    "        'original': _df['original'].mean(),\n",
    "        'efficient': _df['efficient'].mean(),\n",
    "        'original_std': _df['original'].std(),\n",
    "        'efficient_std': _df['efficient'].std(),\n",
    "        'mse': mean_squared_error(_df['efficient'], _df['original']),\n",
    "    })\n",
    "\n",
    "fig.text(0.5, -0.02, 'Original Pseudo-Perplexity', ha='center')\n",
    "fig.text(0.08, 0.5, 'Efficient Pseudo-Perplexity', va='center', rotation='vertical')\n",
    "\n",
    "plt.savefig(snakemake.output['fig'], bbox_inches='tight', dpi=300)\n",
    "pd.DataFrame(stats).to_csv(snakemake.output['stats'], index=False)"
   ]
  }
 ],
 "metadata": {
  "kernelspec": {
   "display_name": "esme",
   "language": "python",
   "name": "python3"
  },
  "language_info": {
   "codemirror_mode": {
    "name": "ipython",
    "version": 3
   },
   "file_extension": ".py",
   "mimetype": "text/x-python",
   "name": "python",
   "nbconvert_exporter": "python",
   "pygments_lexer": "ipython3",
   "version": "3.11.9"
  }
 },
 "nbformat": 4,
 "nbformat_minor": 2
}
