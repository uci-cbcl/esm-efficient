{
 "cells": [
  {
   "cell_type": "code",
   "execution_count": null,
   "id": "e2ced8bf",
   "metadata": {},
   "outputs": [],
   "source": [
    "import numpy as np\n",
    "import pandas as pd\n",
    "import seaborn as sns\n",
    "import matplotlib.pyplot as plt"
   ]
  },
  {
   "cell_type": "code",
   "execution_count": null,
   "id": "2b371c1a-c400-4129-9321-dc35137a59fa",
   "metadata": {},
   "outputs": [],
   "source": [
    "df = list()\n",
    "\n",
    "for i in snakemake.input['runtime']:\n",
    "    _df = pd.read_csv(i)\n",
    "    i = i.split('_')\n",
    "    _df['model'] = i[2].replace('model=', '')\n",
    "    _df['Quantization'] =  i[3].replace('q=', '')\n",
    "    df.append(_df)\n",
    "    \n",
    "df = pd.concat(df)"
   ]
  },
  {
   "cell_type": "code",
   "execution_count": null,
   "id": "d5230997-9a89-4138-9a8f-e3fcca0c9401",
   "metadata": {},
   "outputs": [],
   "source": [
    "df['Implementation'] = np.where(df['model'].str.endswith('e'), 'Efficient', 'Original')\n",
    "df['Quantization'] = df['Quantization'].str.replace('none', 'bf16')\n",
    "df['Model Size'] = df['model'].str.replace('e', '')"
   ]
  },
  {
   "cell_type": "code",
   "execution_count": null,
   "id": "c68c48ff",
   "metadata": {},
   "outputs": [],
   "source": [
    "_df = df.replace('none', 'bf16') \\\n",
    "  .rename(columns={'length': 'Sequence Length', 'runtime': 'Runtime (sec)'})\n",
    "\n",
    "_df[_df['Runtime (sec)'] != -1] \\\n",
    "  [['Model Size', 'Sequence Length', 'Quantization', 'Runtime (sec)', 'Implementation']] \\\n",
    "  .to_csv(snakemake.output['table'], index=False)"
   ]
  },
  {
   "cell_type": "code",
   "execution_count": null,
   "id": "b66e3930",
   "metadata": {},
   "outputs": [],
   "source": [
    "palette = sns.color_palette()\n",
    "\n",
    "palette = {\n",
    "    i: p\n",
    "    for i, p in zip(['8M', '35M', '150M', '650M', '3B', '15B'], palette)\n",
    "}"
   ]
  },
  {
   "cell_type": "code",
   "execution_count": null,
   "id": "6c4307b5-1809-44a9-85fe-728b5c015839",
   "metadata": {},
   "outputs": [],
   "source": [
    "plt.figure(figsize=(6, 2), dpi=300)\n",
    "ax = sns.lineplot(data=df[(df['Quantization'] == 'bf16') & (df['runtime'] != -1)], \n",
    "             x='length', y='runtime', hue='Model Size', style='Implementation')\n",
    "sns.despine()\n",
    "plt.xlabel('Model Parameter Size')\n",
    "plt.ylabel('Runtime (Seconds)')\n",
    "plt.xlim((0, 3550))\n",
    "plt.legend(loc=(-0.11, 1.03), ncol=5, fontsize=8)\n",
    "\n",
    "oom_limit = df.groupby('model')['runtime'].max() \n",
    "_df = df[df['runtime'] == -1].drop_duplicates('model')\n",
    "for i, row in enumerate(_df.itertuples()):\n",
    "    ax.text(row.length + 50, oom_limit[row.model] - .5, 'OOM',\n",
    "            color=palette[row.model], ha='center')\n",
    "\n",
    "plt.savefig(snakemake.output['fig'], bbox_inches='tight', dpi=300)"
   ]
  },
  {
   "cell_type": "code",
   "execution_count": null,
   "id": "11d3a2a9-42a6-4cdb-8839-e3f0393f9c0e",
   "metadata": {},
   "outputs": [],
   "source": [
    "plt.figure(figsize=(6, 2), dpi=300)\n",
    "sns.boxplot(data=df[df['Implementation'] == 'Efficient'], x='Model Size', y='runtime', hue='Quantization')\n",
    "sns.despine()\n",
    "plt.ylabel('Runtime (Seconds)')\n",
    "plt.savefig(snakemake.output['fig_quantize'], bbox_inches='tight', dpi=300)"
   ]
  }
 ],
 "metadata": {
  "kernelspec": {
   "display_name": "Python 3 (ipykernel)",
   "language": "python",
   "name": "python3"
  },
  "language_info": {
   "codemirror_mode": {
    "name": "ipython",
    "version": 3
   },
   "file_extension": ".py",
   "mimetype": "text/x-python",
   "name": "python",
   "nbconvert_exporter": "python",
   "pygments_lexer": "ipython3",
   "version": "3.11.9"
  }
 },
 "nbformat": 4,
 "nbformat_minor": 5
}
