{
 "cells": [
  {
   "cell_type": "code",
   "execution_count": null,
   "id": "c085ba8b",
   "metadata": {},
   "outputs": [],
   "source": [
    "import numpy as np\n",
    "import pandas as pd\n",
    "import seaborn as sns\n",
    "import matplotlib.pyplot as plt\n",
    "from scipy.stats import spearmanr"
   ]
  },
  {
   "cell_type": "code",
   "execution_count": null,
   "id": "644f6eb4",
   "metadata": {},
   "outputs": [],
   "source": [
    "df_legend = pd.read_excel('reports/supp_tables.xlsx', sheet_name=6)\n",
    "df_legend"
   ]
  },
  {
   "cell_type": "code",
   "execution_count": null,
   "id": "2516465b",
   "metadata": {},
   "outputs": [],
   "source": [
    "df = list()\n",
    "\n",
    "for i in snakemake.input['pred']:\n",
    "    _df = pd.read_csv(i)\n",
    "    stats = spearmanr(_df['Predicted Melting Point'], _df['True Melting Point'])\n",
    "    method = i.split('=')[1].split('_')[0].replace('1ve1', '1v')\n",
    "    df.append({\n",
    "        'method': method,\n",
    "        'Correlation': stats.correlation,\n",
    "        'lora': 'Head Only'\n",
    "    })\n",
    "\n",
    "for i in snakemake.input['pred_lora']:\n",
    "    _df = pd.read_csv(i)\n",
    "    stats = spearmanr(_df['Predicted Melting Point'], _df['True Melting Point'])\n",
    "    method = i.split('=')[1].split('_')[0].replace('1ve1', '1v')\n",
    "    df.append({\n",
    "        'method': method,\n",
    "        'Correlation': stats.correlation,\n",
    "        'lora': 'Head + LoRA'\n",
    "    })\n",
    "\n",
    "df = pd.DataFrame(df)\n",
    "df = pd.concat([df_legend, df]).reset_index(drop=True)\n",
    "df.to_csv(snakemake.output['stats'], index=False)"
   ]
  },
  {
   "cell_type": "code",
   "execution_count": null,
   "id": "534fa3ab",
   "metadata": {},
   "outputs": [],
   "source": [
    "plt.figure(figsize=(4, 4), dpi=300)\n",
    "palette = [\"#87c785\", \"#572f30\"]\n",
    "plot = sns.barplot(data=df, x='method', y='Correlation', hue='lora', palette=palette)\n",
    "plt.xlabel('Model')\n",
    "sns.despine()\n",
    "plt.legend(title=None, loc='lower right')\n",
    "plt.savefig(snakemake.output['fig'], bbox_inches='tight', dpi=300, transparent=True)"
   ]
  }
 ],
 "metadata": {
  "kernelspec": {
   "display_name": "esme",
   "language": "python",
   "name": "python3"
  },
  "language_info": {
   "codemirror_mode": {
    "name": "ipython",
    "version": 3
   },
   "file_extension": ".py",
   "mimetype": "text/x-python",
   "name": "python",
   "nbconvert_exporter": "python",
   "pygments_lexer": "ipython3",
   "version": "3.11.9"
  }
 },
 "nbformat": 4,
 "nbformat_minor": 5
}
