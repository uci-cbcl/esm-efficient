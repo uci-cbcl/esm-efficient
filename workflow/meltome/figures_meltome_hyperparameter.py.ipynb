{
 "cells": [
  {
   "cell_type": "code",
   "execution_count": null,
   "id": "64ae9cdf",
   "metadata": {},
   "outputs": [],
   "source": [
    "import pandas as pd"
   ]
  },
  {
   "cell_type": "code",
   "execution_count": null,
   "id": "03105348",
   "metadata": {},
   "outputs": [],
   "source": [
    "from scipy.stats import spearmanr\n",
    "\n",
    "df = list()\n",
    "\n",
    "for i in snakemake.input:\n",
    "    _df = pd.read_csv(i)\n",
    "    params = i.replace('.csv', '').split('/')[-1].split('_')\n",
    "    model = params[0].split('=')[1].replace('e', '')\n",
    "    lora_rank, lora_layers = params[3].split('=')[1].split(';')\n",
    "    lora_rank = int(lora_rank)\n",
    "    stats = spearmanr(_df['Predicted Melting Point'], _df['True Melting Point'])\n",
    "    df.append({\n",
    "        'method': i.split('=')[1].split('_')[0],\n",
    "        'lora_rank': lora_rank,\n",
    "        'lora_layers': lora_layers,\n",
    "        'model': model,\n",
    "        'Correlation': stats.correlation,\n",
    "    })\n",
    "\n",
    "df = pd.DataFrame(df)\n",
    "df.to_csv(snakemake.output['stats'], index=False)"
   ]
  },
  {
   "cell_type": "code",
   "execution_count": null,
   "id": "cb120b13",
   "metadata": {},
   "outputs": [],
   "source": [
    "import seaborn as sns\n",
    "import matplotlib.pyplot as plt\n",
    "\n",
    "fig, axs = plt.subplots(3, 3, figsize=(10, 5), sharex=True, sharey=True)\n",
    "\n",
    "for i, (model, df_lora) in enumerate(df.groupby('lora_rank')):\n",
    "    for j, (lora_rank, df_model) in enumerate(df_lora.groupby('model')):\n",
    "        sns.scatterplot(data=df_model, y='lora_layers', x='Correlation', ax=axs[i, j])\n",
    "        axs[i, j].set_title(f'Model: {model}, Lora Rank: {lora_rank}', fontsize=10)\n",
    "        if (i == 1) and (j == 0):\n",
    "            axs[i, j].set_ylabel('Lora Layer Configuration')\n",
    "        elif (i == 2) and (j == 1):\n",
    "            axs[i, j].set_xlabel('Spearman Correlation')\n",
    "        else:\n",
    "            axs[i, j].set_xlabel(None)\n",
    "            axs[i, j].set_ylabel(None)\n",
    "\n",
    "plt.savefig(snakemake.output['fig'], bbox_inches='tight', dpi=300, transparent=True)"
   ]
  }
 ],
 "metadata": {
  "kernelspec": {
   "display_name": "esme",
   "language": "python",
   "name": "python3"
  },
  "language_info": {
   "codemirror_mode": {
    "name": "ipython",
    "version": 3
   },
   "file_extension": ".py",
   "mimetype": "text/x-python",
   "name": "python",
   "nbconvert_exporter": "python",
   "pygments_lexer": "ipython3",
   "version": "3.11.9"
  }
 },
 "nbformat": 4,
 "nbformat_minor": 5
}
