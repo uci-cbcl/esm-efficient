{
 "cells": [
  {
   "cell_type": "code",
   "execution_count": null,
   "metadata": {},
   "outputs": [],
   "source": [
    "import torch\n",
    "import safetensors.torch as safetensors\n",
    "import pandas as pd\n",
    "from tqdm import tqdm\n",
    "from more_itertools import collapse\n",
    "from workflow.meltome.meltome import MeltomeDataModule, MeltomeModel"
   ]
  },
  {
   "cell_type": "code",
   "execution_count": null,
   "metadata": {},
   "outputs": [],
   "source": [
    "device = snakemake.params['device']\n",
    "\n",
    "quantization = snakemake.wildcards['quantize']\n",
    "quantization = quantization if quantization != 'none' else None\n",
    "\n",
    "model = MeltomeModel(snakemake.input['model'], device=device) \n",
    "\n",
    "wld_lora = snakemake.wildcards['lora']\n",
    "if wld_lora != 'none':\n",
    "    model.plm.load_lora(snakemake.input['lora_weights'])\n",
    "\n",
    "safetensors.load_model(model.head, snakemake.input['head_weights'])\n",
    "\n",
    "model = model.to(device)"
   ]
  },
  {
   "cell_type": "code",
   "execution_count": null,
   "metadata": {},
   "outputs": [],
   "source": [
    "datamodule = MeltomeDataModule(\n",
    "    snakemake.input['dataset'], \n",
    "    token_per_batch=50_000, \n",
    "    num_workers=4,\n",
    "    truncate_len=4096 - 2\n",
    ")"
   ]
  },
  {
   "cell_type": "code",
   "execution_count": null,
   "metadata": {},
   "outputs": [],
   "source": [
    "def predict(dl):\n",
    "    preds, targets = [], []\n",
    "\n",
    "    model.eval()\n",
    "    with torch.no_grad():\n",
    "        for batch in tqdm(dl):\n",
    "            preds.append(model(\n",
    "                batch['token'].to(device),\n",
    "                (batch['cu_lens'].to(device), batch['max_len']),\n",
    "                batch['indices'].to(device)\n",
    "            ).cpu().float().numpy())\n",
    "            targets.append(batch['label'].cpu().float().numpy())\n",
    "\n",
    "    preds = list(collapse(preds))\n",
    "    targets = list(collapse(targets))\n",
    "\n",
    "    return pd.DataFrame({\n",
    "        'Predicted Melting Point': targets, \n",
    "        'True Melting Point': preds\n",
    "    })"
   ]
  },
  {
   "cell_type": "code",
   "execution_count": null,
   "metadata": {},
   "outputs": [],
   "source": [
    "df = predict(datamodule.test_dataloader())\n",
    "df.to_csv(snakemake.output['predictions'], index=False)"
   ]
  },
  {
   "cell_type": "code",
   "execution_count": null,
   "metadata": {},
   "outputs": [],
   "source": [
    "# import matplotlib.pyplot as plt\n",
    "# import seaborn as sns\n",
    "# from scipy.stats import spearmanr\n",
    "\n",
    "# plt.figure(figsize=(4, 4), dpi=300)\n",
    "# plt.plot([0, 100], [0, 100], color='black', linestyle='--', alpha=0.5)\n",
    "# sns.scatterplot(data=df, x='Predicted Melting Point', y='True Melting Point', alpha=0.5)\n",
    "# stats = spearmanr(df['Predicted Melting Point'], df['True Melting Point'])\n",
    "# plt.text(0.05, 0.9, r'$\\rho$' + f': {stats.correlation:.2f}', transform=plt.gca().transAxes)\n",
    "# sns.despine()\n",
    "# plt.savefig(snakemake.output['scatter_test'], bbox_inches='tight', dpi=300, transparent=True)"
   ]
  }
 ],
 "metadata": {
  "kernelspec": {
   "display_name": "Python 3 (ipykernel)",
   "language": "python",
   "name": "python3"
  },
  "language_info": {
   "codemirror_mode": {
    "name": "ipython",
    "version": 3
   },
   "file_extension": ".py",
   "mimetype": "text/x-python",
   "name": "python",
   "nbconvert_exporter": "python",
   "pygments_lexer": "ipython3",
   "version": "3.11.9"
  }
 },
 "nbformat": 4,
 "nbformat_minor": 2
}
